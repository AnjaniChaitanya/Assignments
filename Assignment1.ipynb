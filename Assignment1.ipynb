{
 "cells": [
  {
   "cell_type": "markdown",
   "metadata": {},
   "source": [
    "#### 1. Write a program which will find all such numbers which are divisible by 7 but are not a multiple of 5, between 2000 and 3200 (both included). The numbers obtained should be printed in a comma-separated sequence on a single line."
   ]
  },
  {
   "cell_type": "code",
   "execution_count": 39,
   "metadata": {},
   "outputs": [
    {
     "name": "stdout",
     "output_type": "stream",
     "text": [
      "[2030, 2065, 2100, 2135, 2170, 2205, 2240, 2275, 2310, 2345, 2380, 2415, 2450, 2485, 2520, 2555, 2590, 2625, 2660, 2695, 2730, 2765, 2800, 2835, 2870, 2905, 2940, 2975, 3010, 3045, 3080, 3115, 3150, 3185]\n"
     ]
    }
   ],
   "source": [
    "l=[]\n",
    "for x in range(2000,3200):\n",
    "    if (x%5==0) and (x%7==0):\n",
    "        l.append(x)\n",
    "print(l)       "
   ]
  },
  {
   "cell_type": "markdown",
   "metadata": {},
   "source": [
    "#### 2. Write a Python program to accept the user's first and last name and then getting them printed in the the reverse order with a space between first name and last name."
   ]
  },
  {
   "cell_type": "code",
   "execution_count": 35,
   "metadata": {},
   "outputs": [
    {
     "name": "stdout",
     "output_type": "stream",
     "text": [
      "Enter First Name Karthikeya\n",
      "Enter Last Name Ishan\n",
      "Hi Ishan Karthikeya\n"
     ]
    }
   ],
   "source": [
    "first_name = input(\"Enter First Name \")\n",
    "last_name = input(\"Enter Last Name \")\n",
    "print(\"Hi\"+\" \"+last_name+\" \"+first_name)"
   ]
  },
  {
   "cell_type": "markdown",
   "metadata": {},
   "source": [
    "#### 3. Write a Python program to find the volume of a sphere with diameter 12 cm."
   ]
  },
  {
   "cell_type": "code",
   "execution_count": 18,
   "metadata": {},
   "outputs": [
    {
     "name": "stdout",
     "output_type": "stream",
     "text": [
      "6.0\n",
      "904.608\n"
     ]
    }
   ],
   "source": [
    "diameter = 12\n",
    "radius = 12/2\n",
    "pi = 3.141\n",
    "print(radius)\n",
    "volume = (4/3)*pi* radius**3\n",
    "print(volume)"
   ]
  },
  {
   "cell_type": "markdown",
   "metadata": {},
   "source": [
    "#### 4. Write a program which accepts a sequence of comma-separated numbers from console and generate a list."
   ]
  },
  {
   "cell_type": "code",
   "execution_count": 26,
   "metadata": {},
   "outputs": [
    {
     "name": "stdout",
     "output_type": "stream",
     "text": [
      "Enter comma seprated numbers :23,45,67,Anj\n",
      "Generated List : ['23', '45', '67', 'Anj']\n"
     ]
    }
   ],
   "source": [
    "Val = input(\"Enter comma seprated numbers :\")\n",
    "l = Val.split(\",\")\n",
    "print(\"Generated List :\",l)"
   ]
  },
  {
   "cell_type": "markdown",
   "metadata": {},
   "source": [
    "#### 5. Create the below pattern using nested for loop in Python."
   ]
  },
  {
   "cell_type": "markdown",
   "metadata": {},
   "source": [
    "\n",
    "*\n",
    "* *\n",
    "* * *\n",
    "* * * *\n",
    "* * * * *\n",
    "* * * *\n",
    "* * *\n",
    "* *\n",
    "*"
   ]
  },
  {
   "cell_type": "code",
   "execution_count": 67,
   "metadata": {},
   "outputs": [
    {
     "name": "stdout",
     "output_type": "stream",
     "text": [
      "* \n",
      "* * \n",
      "* * * \n",
      "* * * * \n",
      "* * * * * \n",
      "* * * * \n",
      "* * * \n",
      "* * \n",
      "* \n",
      "\n"
     ]
    }
   ],
   "source": [
    "n = 5\n",
    "for i in range(0,n):\n",
    "    for j in range(i+1):\n",
    "        print(\"*\",end =' ')\n",
    "    print(\"\")\n",
    "#print(\"over\")\n",
    "for i in range(n, 0 , -1):\n",
    "    for j in range(0, i-1 ):\n",
    "        print(\"* \", end=\"\")\n",
    "    print(\"\")    \n",
    "       "
   ]
  },
  {
   "cell_type": "markdown",
   "metadata": {},
   "source": [
    "#### 6. Write a Python program to reverse a word after accepting the input from the user."
   ]
  },
  {
   "cell_type": "code",
   "execution_count": 34,
   "metadata": {},
   "outputs": [
    {
     "name": "stdout",
     "output_type": "stream",
     "text": [
      "Enter Name :Ishan\n",
      "Input word: Ishan\n",
      "Output Word :  nahsI\n"
     ]
    }
   ],
   "source": [
    "Name_val = input(\"Enter Name :\")\n",
    "print(\"Input word:\",Name_val)\n",
    "new_str=''\n",
    "for i in range(len(Name_val)-1,-1,-1):\n",
    "    new_str+=Name_val[i]\n",
    "print(\"Output Word : \",new_str)"
   ]
  },
  {
   "cell_type": "markdown",
   "metadata": {},
   "source": [
    "#### 7. Write a Python Program to print the given string in the format specified in the sample output.\n"
   ]
  },
  {
   "cell_type": "code",
   "execution_count": 70,
   "metadata": {},
   "outputs": [
    {
     "name": "stdout",
     "output_type": "stream",
     "text": [
      "WE, THE PEOPLE OF INDIA,\n",
      "\thaving solemnly resolved to constitute India into a SOVEREIGN,!\n",
      "\t\tSOCIALIST, SECULAR, DEMOCRATIC REPUBLIC\n",
      "\t\tand to secure to all its citizens:\n"
     ]
    }
   ],
   "source": [
    "string = \"WE, THE PEOPLE OF INDIA,{}having solemnly resolved to constitute India into a SOVEREIGN,{}SOCIALIST, SECULAR, DEMOCRATIC REPUBLIC{}and to secure to all its citizens{}\"\n",
    "print(string.format('\\n\\t','!\\n\\t\\t','\\n\\t\\t',':'))"
   ]
  },
  {
   "cell_type": "code",
   "execution_count": null,
   "metadata": {},
   "outputs": [],
   "source": []
  }
 ],
 "metadata": {
  "kernelspec": {
   "display_name": "Python 3",
   "language": "python",
   "name": "python3"
  },
  "language_info": {
   "codemirror_mode": {
    "name": "ipython",
    "version": 3
   },
   "file_extension": ".py",
   "mimetype": "text/x-python",
   "name": "python",
   "nbconvert_exporter": "python",
   "pygments_lexer": "ipython3",
   "version": "3.7.4"
  }
 },
 "nbformat": 4,
 "nbformat_minor": 2
}
